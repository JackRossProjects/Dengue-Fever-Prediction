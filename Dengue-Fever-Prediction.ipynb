{
 "cells": [
  {
   "cell_type": "markdown",
   "metadata": {},
   "source": [
    "## Dengue Fever Prediction\n",
    "By: Jack Ross"
   ]
  },
  {
   "cell_type": "code",
   "execution_count": 1,
   "metadata": {},
   "outputs": [],
   "source": [
    "%matplotlib inline\n",
    "import matplotlib.pyplot as plt\n",
    "import numpy as np\n",
    "import pandas as pd\n",
    "import seaborn as sns\n",
    "from sklearn.impute import SimpleImputer\n",
    "from sklearn.metrics import accuracy_score\n",
    "from sklearn.model_selection import train_test_split\n",
    "from sklearn.pipeline import make_pipeline\n",
    "from sklearn.ensemble import RandomForestClassifier"
   ]
  },
  {
   "cell_type": "code",
   "execution_count": 2,
   "metadata": {},
   "outputs": [],
   "source": [
    "# Merge train_features.csv & train_labels.csv\n",
    "train = pd.merge(pd.read_csv('https://raw.githubusercontent.com/JackRossProjects/Dengue-Fever-Predictive-Modeling/master/DengueFeverData/dengue_features_train.csv'),\n",
    "                 pd.read_csv('https://raw.githubusercontent.com/JackRossProjects/Dengue-Fever-Predictive-Modeling/master/DengueFeverData/dengue_labels_train.csv'))\n",
    "\n",
    "# Read test_features.csv & sample_submission.csv\n",
    "test = pd.read_csv('https://raw.githubusercontent.com/JackRossProjects/Dengue-Fever-Predictive-Modeling/master/DengueFeverData/dengue_features_test.csv')\n",
    "sample_submission = pd.read_csv('https://raw.githubusercontent.com/JackRossProjects/Dengue-Fever-Predictive-Modeling/master/DengueFeverData/submission_format.csv')"
   ]
  },
  {
   "cell_type": "code",
   "execution_count": 3,
   "metadata": {},
   "outputs": [],
   "source": [
    "train, val = train_test_split(train, test_size=.3,  \n",
    "                              random_state=42)"
   ]
  },
  {
   "cell_type": "markdown",
   "metadata": {},
   "source": [
    "## 231 Assignment\n",
    "\n",
    "Complete these tasks for your project, and document your decisions.\n",
    "\n",
    "- [X] Choose your target. Which column in your tabular dataset will you predict?"
   ]
  },
  {
   "cell_type": "code",
   "execution_count": 4,
   "metadata": {},
   "outputs": [],
   "source": [
    "target = 'total_cases'\n",
    "features = train.columns.drop([target])\n",
    "X_train = train[features]\n",
    "y_train = train[target]\n",
    "X_val = val[features]\n",
    "y_val = val[target]"
   ]
  },
  {
   "cell_type": "code",
   "execution_count": 5,
   "metadata": {},
   "outputs": [],
   "source": [
    "X_train = train.drop(columns=target)\n",
    "y_train = train[target]\n",
    "X_val = val.drop(columns=target)\n",
    "y_val = val[target]\n",
    "X_test = test"
   ]
  },
  {
   "cell_type": "markdown",
   "metadata": {},
   "source": [
    "- [X] Is your problem regression or classification?"
   ]
  },
  {
   "cell_type": "code",
   "execution_count": 6,
   "metadata": {},
   "outputs": [],
   "source": [
    "# My problem is a regression problem. I am trying to find a numerical\n",
    "# (continuous) value for total_cases. "
   ]
  },
  {
   "cell_type": "markdown",
   "metadata": {},
   "source": [
    "- [X] How is your target distributed?\n",
    "    - Classification: How many classes? Are the classes imbalanced?\n",
    "    - Regression: Is the target right-skewed? If so, you may want to log transform the target."
   ]
  },
  {
   "cell_type": "code",
   "execution_count": 7,
   "metadata": {},
   "outputs": [
    {
     "data": {
      "text/plain": [
       "<matplotlib.axes._subplots.AxesSubplot at 0x7fa730cc8790>"
      ]
     },
     "execution_count": 7,
     "metadata": {},
     "output_type": "execute_result"
    },
    {
     "data": {
      "image/png": "[encoded data removed]",
      "text/plain": [
       "<Figure size 432x288 with 1 Axes>"
      ]
     },
     "metadata": {
      "needs_background": "light"
     },
     "output_type": "display_data"
    }
   ],
   "source": [
    "import seaborn as sns\n",
    "sns.distplot(y_train)\n",
    "\n",
    "# The target seems to be right-skewed"
   ]
  },
  {
   "cell_type": "code",
   "execution_count": 8,
   "metadata": {},
   "outputs": [],
   "source": [
    "y_train_log = np.log1p(y_train)"
   ]
  },
  {
   "cell_type": "code",
   "execution_count": 9,
   "metadata": {},
   "outputs": [
    {
     "data": {
      "text/plain": [
       "<matplotlib.axes._subplots.AxesSubplot at 0x7fa730441c90>"
      ]
     },
     "execution_count": 9,
     "metadata": {},
     "output_type": "execute_result"
    },
    {
     "data": {
      "image/png": "[encoded data removed]",
      "text/plain": [
       "<Figure size 432x288 with 1 Axes>"
      ]
     },
     "metadata": {
      "needs_background": "light"
     },
     "output_type": "display_data"
    }
   ],
   "source": [
    "sns.distplot(y_train_log)"
   ]
  },
  {
   "cell_type": "markdown",
   "metadata": {},
   "source": [
    "- [X] Choose your evaluation metric(s).\n",
    "    - Classification: Is your majority class frequency >= 50% and < 70% ? If so, you can just use accuracy if you want. Outside that range, accuracy could be misleading. What evaluation metric will you choose, in addition to or instead of accuracy?\n",
    "    - Regression: Will you use mean absolute error, root mean squared error, R^2, or other regression metrics?"
   ]
  },
  {
   "cell_type": "code",
   "execution_count": 10,
   "metadata": {},
   "outputs": [],
   "source": [
    "# I will use root mean squared error (RMSE) for my evalutation metric\n",
    "# FOR NOW. After I clean the data and look for outliers, I will revisit\n",
    "# this because RMSE harshly penalizes outliers. I will also use \n",
    "# adjusted R squared because it will allow me to know how useful my\n",
    "# predictor terms are."
   ]
  },
  {
   "cell_type": "markdown",
   "metadata": {},
   "source": [
    "- [X] Choose which observations you will use to train, validate, and test your model.\n",
    "    - Are some observations outliers? Will you exclude them?\n",
    "    - Will you do a random split or a time-based split?"
   ]
  },
  {
   "cell_type": "code",
   "execution_count": 11,
   "metadata": {},
   "outputs": [],
   "source": [
    "# I have done a 30% random split with train/val"
   ]
  },
  {
   "cell_type": "code",
   "execution_count": 12,
   "metadata": {
    "scrolled": true
   },
   "outputs": [
    {
     "data": {
      "text/html": [
       "<div>\n",
       "<style scoped>\n",
       "    .dataframe tbody tr th:only-of-type {\n",
       "        vertical-align: middle;\n",
       "    }\n",
       "\n",
       "    .dataframe tbody tr th {\n",
       "        vertical-align: top;\n",
       "    }\n",
       "\n",
       "    .dataframe thead th {\n",
       "        text-align: right;\n",
       "    }\n",
       "</style>\n",
       "<table border=\"1\" class=\"dataframe\">\n",
       "  <thead>\n",
       "    <tr style=\"text-align: right;\">\n",
       "      <th></th>\n",
       "      <th>city</th>\n",
       "      <th>year</th>\n",
       "      <th>weekofyear</th>\n",
       "      <th>week_start_date</th>\n",
       "      <th>ndvi_ne</th>\n",
       "      <th>ndvi_nw</th>\n",
       "      <th>ndvi_se</th>\n",
       "      <th>ndvi_sw</th>\n",
       "      <th>precipitation_amt_mm</th>\n",
       "      <th>reanalysis_air_temp_k</th>\n",
       "      <th>...</th>\n",
       "      <th>reanalysis_relative_humidity_percent</th>\n",
       "      <th>reanalysis_sat_precip_amt_mm</th>\n",
       "      <th>reanalysis_specific_humidity_g_per_kg</th>\n",
       "      <th>reanalysis_tdtr_k</th>\n",
       "      <th>station_avg_temp_c</th>\n",
       "      <th>station_diur_temp_rng_c</th>\n",
       "      <th>station_max_temp_c</th>\n",
       "      <th>station_min_temp_c</th>\n",
       "      <th>station_precip_mm</th>\n",
       "      <th>total_cases</th>\n",
       "    </tr>\n",
       "  </thead>\n",
       "  <tbody>\n",
       "    <tr>\n",
       "      <th>464</th>\n",
       "      <td>sj</td>\n",
       "      <td>1999</td>\n",
       "      <td>13</td>\n",
       "      <td>1999-04-02</td>\n",
       "      <td>0.054100</td>\n",
       "      <td>-0.098100</td>\n",
       "      <td>0.157267</td>\n",
       "      <td>0.137057</td>\n",
       "      <td>15.91</td>\n",
       "      <td>298.308571</td>\n",
       "      <td>...</td>\n",
       "      <td>78.910000</td>\n",
       "      <td>15.91</td>\n",
       "      <td>15.732857</td>\n",
       "      <td>2.314286</td>\n",
       "      <td>25.742857</td>\n",
       "      <td>6.900000</td>\n",
       "      <td>30.6</td>\n",
       "      <td>21.7</td>\n",
       "      <td>7.9</td>\n",
       "      <td>22</td>\n",
       "    </tr>\n",
       "    <tr>\n",
       "      <th>471</th>\n",
       "      <td>sj</td>\n",
       "      <td>1999</td>\n",
       "      <td>20</td>\n",
       "      <td>1999-05-21</td>\n",
       "      <td>NaN</td>\n",
       "      <td>0.090667</td>\n",
       "      <td>0.194471</td>\n",
       "      <td>0.169157</td>\n",
       "      <td>33.82</td>\n",
       "      <td>299.775714</td>\n",
       "      <td>...</td>\n",
       "      <td>76.598571</td>\n",
       "      <td>33.82</td>\n",
       "      <td>16.651429</td>\n",
       "      <td>3.185714</td>\n",
       "      <td>27.828571</td>\n",
       "      <td>7.328571</td>\n",
       "      <td>33.3</td>\n",
       "      <td>23.3</td>\n",
       "      <td>14.3</td>\n",
       "      <td>20</td>\n",
       "    </tr>\n",
       "    <tr>\n",
       "      <th>1328</th>\n",
       "      <td>iq</td>\n",
       "      <td>2008</td>\n",
       "      <td>3</td>\n",
       "      <td>2008-01-15</td>\n",
       "      <td>0.188229</td>\n",
       "      <td>0.220829</td>\n",
       "      <td>0.233243</td>\n",
       "      <td>0.169971</td>\n",
       "      <td>95.97</td>\n",
       "      <td>298.034286</td>\n",
       "      <td>...</td>\n",
       "      <td>94.968571</td>\n",
       "      <td>95.97</td>\n",
       "      <td>18.865714</td>\n",
       "      <td>8.585714</td>\n",
       "      <td>27.433333</td>\n",
       "      <td>9.466667</td>\n",
       "      <td>33.8</td>\n",
       "      <td>21.8</td>\n",
       "      <td>125.3</td>\n",
       "      <td>26</td>\n",
       "    </tr>\n",
       "    <tr>\n",
       "      <th>435</th>\n",
       "      <td>sj</td>\n",
       "      <td>1998</td>\n",
       "      <td>37</td>\n",
       "      <td>1998-09-10</td>\n",
       "      <td>0.074650</td>\n",
       "      <td>0.057967</td>\n",
       "      <td>0.151886</td>\n",
       "      <td>0.122000</td>\n",
       "      <td>72.73</td>\n",
       "      <td>300.147143</td>\n",
       "      <td>...</td>\n",
       "      <td>84.002857</td>\n",
       "      <td>72.73</td>\n",
       "      <td>18.724286</td>\n",
       "      <td>2.028571</td>\n",
       "      <td>28.328571</td>\n",
       "      <td>6.842857</td>\n",
       "      <td>32.2</td>\n",
       "      <td>24.4</td>\n",
       "      <td>61.3</td>\n",
       "      <td>99</td>\n",
       "    </tr>\n",
       "    <tr>\n",
       "      <th>1206</th>\n",
       "      <td>iq</td>\n",
       "      <td>2005</td>\n",
       "      <td>36</td>\n",
       "      <td>2005-09-10</td>\n",
       "      <td>0.335429</td>\n",
       "      <td>0.200714</td>\n",
       "      <td>0.322886</td>\n",
       "      <td>0.309143</td>\n",
       "      <td>36.98</td>\n",
       "      <td>300.058571</td>\n",
       "      <td>...</td>\n",
       "      <td>71.971429</td>\n",
       "      <td>36.98</td>\n",
       "      <td>15.518571</td>\n",
       "      <td>13.714286</td>\n",
       "      <td>NaN</td>\n",
       "      <td>NaN</td>\n",
       "      <td>NaN</td>\n",
       "      <td>21.8</td>\n",
       "      <td>44.0</td>\n",
       "      <td>0</td>\n",
       "    </tr>\n",
       "    <tr>\n",
       "      <th>...</th>\n",
       "      <td>...</td>\n",
       "      <td>...</td>\n",
       "      <td>...</td>\n",
       "      <td>...</td>\n",
       "      <td>...</td>\n",
       "      <td>...</td>\n",
       "      <td>...</td>\n",
       "      <td>...</td>\n",
       "      <td>...</td>\n",
       "      <td>...</td>\n",
       "      <td>...</td>\n",
       "      <td>...</td>\n",
       "      <td>...</td>\n",
       "      <td>...</td>\n",
       "      <td>...</td>\n",
       "      <td>...</td>\n",
       "      <td>...</td>\n",
       "      <td>...</td>\n",
       "      <td>...</td>\n",
       "      <td>...</td>\n",
       "      <td>...</td>\n",
       "    </tr>\n",
       "    <tr>\n",
       "      <th>1095</th>\n",
       "      <td>iq</td>\n",
       "      <td>2003</td>\n",
       "      <td>30</td>\n",
       "      <td>2003-07-23</td>\n",
       "      <td>0.285814</td>\n",
       "      <td>0.163071</td>\n",
       "      <td>0.288029</td>\n",
       "      <td>0.277457</td>\n",
       "      <td>2.64</td>\n",
       "      <td>296.485714</td>\n",
       "      <td>...</td>\n",
       "      <td>77.804286</td>\n",
       "      <td>2.64</td>\n",
       "      <td>13.558571</td>\n",
       "      <td>11.428571</td>\n",
       "      <td>26.466667</td>\n",
       "      <td>10.366667</td>\n",
       "      <td>32.1</td>\n",
       "      <td>18.0</td>\n",
       "      <td>9.9</td>\n",
       "      <td>1</td>\n",
       "    </tr>\n",
       "    <tr>\n",
       "      <th>1130</th>\n",
       "      <td>iq</td>\n",
       "      <td>2004</td>\n",
       "      <td>13</td>\n",
       "      <td>2004-03-25</td>\n",
       "      <td>0.306283</td>\n",
       "      <td>0.198720</td>\n",
       "      <td>0.029880</td>\n",
       "      <td>0.290150</td>\n",
       "      <td>120.10</td>\n",
       "      <td>297.312857</td>\n",
       "      <td>...</td>\n",
       "      <td>96.238571</td>\n",
       "      <td>120.10</td>\n",
       "      <td>18.237143</td>\n",
       "      <td>5.714286</td>\n",
       "      <td>28.650000</td>\n",
       "      <td>9.300000</td>\n",
       "      <td>34.0</td>\n",
       "      <td>23.6</td>\n",
       "      <td>142.6</td>\n",
       "      <td>3</td>\n",
       "    </tr>\n",
       "    <tr>\n",
       "      <th>1294</th>\n",
       "      <td>iq</td>\n",
       "      <td>2007</td>\n",
       "      <td>21</td>\n",
       "      <td>2007-05-21</td>\n",
       "      <td>0.364614</td>\n",
       "      <td>0.256829</td>\n",
       "      <td>0.329900</td>\n",
       "      <td>0.349686</td>\n",
       "      <td>64.11</td>\n",
       "      <td>297.232857</td>\n",
       "      <td>...</td>\n",
       "      <td>94.852857</td>\n",
       "      <td>64.11</td>\n",
       "      <td>17.718571</td>\n",
       "      <td>8.957143</td>\n",
       "      <td>28.250000</td>\n",
       "      <td>10.550000</td>\n",
       "      <td>33.8</td>\n",
       "      <td>21.7</td>\n",
       "      <td>86.6</td>\n",
       "      <td>5</td>\n",
       "    </tr>\n",
       "    <tr>\n",
       "      <th>860</th>\n",
       "      <td>sj</td>\n",
       "      <td>2006</td>\n",
       "      <td>45</td>\n",
       "      <td>2006-11-12</td>\n",
       "      <td>-0.276100</td>\n",
       "      <td>-0.033100</td>\n",
       "      <td>0.215317</td>\n",
       "      <td>0.184357</td>\n",
       "      <td>6.61</td>\n",
       "      <td>300.880000</td>\n",
       "      <td>...</td>\n",
       "      <td>75.568571</td>\n",
       "      <td>6.61</td>\n",
       "      <td>17.617143</td>\n",
       "      <td>2.585714</td>\n",
       "      <td>27.985714</td>\n",
       "      <td>6.128571</td>\n",
       "      <td>31.7</td>\n",
       "      <td>24.4</td>\n",
       "      <td>18.0</td>\n",
       "      <td>20</td>\n",
       "    </tr>\n",
       "    <tr>\n",
       "      <th>1126</th>\n",
       "      <td>iq</td>\n",
       "      <td>2004</td>\n",
       "      <td>9</td>\n",
       "      <td>2004-02-26</td>\n",
       "      <td>0.319057</td>\n",
       "      <td>0.335233</td>\n",
       "      <td>0.217629</td>\n",
       "      <td>0.300029</td>\n",
       "      <td>125.04</td>\n",
       "      <td>297.882857</td>\n",
       "      <td>...</td>\n",
       "      <td>93.012857</td>\n",
       "      <td>125.04</td>\n",
       "      <td>17.950000</td>\n",
       "      <td>7.814286</td>\n",
       "      <td>27.466667</td>\n",
       "      <td>10.133333</td>\n",
       "      <td>34.4</td>\n",
       "      <td>20.6</td>\n",
       "      <td>18.9</td>\n",
       "      <td>6</td>\n",
       "    </tr>\n",
       "  </tbody>\n",
       "</table>\n",
       "<p>1019 rows × 25 columns</p>\n",
       "</div>"
      ],
      "text/plain": [
       "     city  year  weekofyear week_start_date   ndvi_ne   ndvi_nw   ndvi_se  \\\n",
       "464    sj  1999          13      1999-04-02  0.054100 -0.098100  0.157267   \n",
       "471    sj  1999          20      1999-05-21       NaN  0.090667  0.194471   \n",
       "1328   iq  2008           3      2008-01-15  0.188229  0.220829  0.233243   \n",
       "435    sj  1998          37      1998-09-10  0.074650  0.057967  0.151886   \n",
       "1206   iq  2005          36      2005-09-10  0.335429  0.200714  0.322886   \n",
       "...   ...   ...         ...             ...       ...       ...       ...   \n",
       "1095   iq  2003          30      2003-07-23  0.285814  0.163071  0.288029   \n",
       "1130   iq  2004          13      2004-03-25  0.306283  0.198720  0.029880   \n",
       "1294   iq  2007          21      2007-05-21  0.364614  0.256829  0.329900   \n",
       "860    sj  2006          45      2006-11-12 -0.276100 -0.033100  0.215317   \n",
       "1126   iq  2004           9      2004-02-26  0.319057  0.335233  0.217629   \n",
       "\n",
       "       ndvi_sw  precipitation_amt_mm  reanalysis_air_temp_k  ...  \\\n",
       "464   0.137057                 15.91             298.308571  ...   \n",
       "471   0.169157                 33.82             299.775714  ...   \n",
       "1328  0.169971                 95.97             298.034286  ...   \n",
       "435   0.122000                 72.73             300.147143  ...   \n",
       "1206  0.309143                 36.98             300.058571  ...   \n",
       "...        ...                   ...                    ...  ...   \n",
       "1095  0.277457                  2.64             296.485714  ...   \n",
       "1130  0.290150                120.10             297.312857  ...   \n",
       "1294  0.349686                 64.11             297.232857  ...   \n",
       "860   0.184357                  6.61             300.880000  ...   \n",
       "1126  0.300029                125.04             297.882857  ...   \n",
       "\n",
       "      reanalysis_relative_humidity_percent  reanalysis_sat_precip_amt_mm  \\\n",
       "464                              78.910000                         15.91   \n",
       "471                              76.598571                         33.82   \n",
       "1328                             94.968571                         95.97   \n",
       "435                              84.002857                         72.73   \n",
       "1206                             71.971429                         36.98   \n",
       "...                                    ...                           ...   \n",
       "1095                             77.804286                          2.64   \n",
       "1130                             96.238571                        120.10   \n",
       "1294                             94.852857                         64.11   \n",
       "860                              75.568571                          6.61   \n",
       "1126                             93.012857                        125.04   \n",
       "\n",
       "      reanalysis_specific_humidity_g_per_kg  reanalysis_tdtr_k  \\\n",
       "464                               15.732857           2.314286   \n",
       "471                               16.651429           3.185714   \n",
       "1328                              18.865714           8.585714   \n",
       "435                               18.724286           2.028571   \n",
       "1206                              15.518571          13.714286   \n",
       "...                                     ...                ...   \n",
       "1095                              13.558571          11.428571   \n",
       "1130                              18.237143           5.714286   \n",
       "1294                              17.718571           8.957143   \n",
       "860                               17.617143           2.585714   \n",
       "1126                              17.950000           7.814286   \n",
       "\n",
       "      station_avg_temp_c  station_diur_temp_rng_c  station_max_temp_c  \\\n",
       "464            25.742857                 6.900000                30.6   \n",
       "471            27.828571                 7.328571                33.3   \n",
       "1328           27.433333                 9.466667                33.8   \n",
       "435            28.328571                 6.842857                32.2   \n",
       "1206                 NaN                      NaN                 NaN   \n",
       "...                  ...                      ...                 ...   \n",
       "1095           26.466667                10.366667                32.1   \n",
       "1130           28.650000                 9.300000                34.0   \n",
       "1294           28.250000                10.550000                33.8   \n",
       "860            27.985714                 6.128571                31.7   \n",
       "1126           27.466667                10.133333                34.4   \n",
       "\n",
       "      station_min_temp_c  station_precip_mm  total_cases  \n",
       "464                 21.7                7.9           22  \n",
       "471                 23.3               14.3           20  \n",
       "1328                21.8              125.3           26  \n",
       "435                 24.4               61.3           99  \n",
       "1206                21.8               44.0            0  \n",
       "...                  ...                ...          ...  \n",
       "1095                18.0                9.9            1  \n",
       "1130                23.6              142.6            3  \n",
       "1294                21.7               86.6            5  \n",
       "860                 24.4               18.0           20  \n",
       "1126                20.6               18.9            6  \n",
       "\n",
       "[1019 rows x 25 columns]"
      ]
     },
     "execution_count": 12,
     "metadata": {},
     "output_type": "execute_result"
    }
   ],
   "source": [
    "train"
   ]
  },
  {
   "cell_type": "code",
   "execution_count": 13,
   "metadata": {},
   "outputs": [
    {
     "data": {
      "text/html": [
       "<div>\n",
       "<style scoped>\n",
       "    .dataframe tbody tr th:only-of-type {\n",
       "        vertical-align: middle;\n",
       "    }\n",
       "\n",
       "    .dataframe tbody tr th {\n",
       "        vertical-align: top;\n",
       "    }\n",
       "\n",
       "    .dataframe thead th {\n",
       "        text-align: right;\n",
       "    }\n",
       "</style>\n",
       "<table border=\"1\" class=\"dataframe\">\n",
       "  <thead>\n",
       "    <tr style=\"text-align: right;\">\n",
       "      <th></th>\n",
       "      <th>city</th>\n",
       "      <th>year</th>\n",
       "      <th>weekofyear</th>\n",
       "      <th>week_start_date</th>\n",
       "      <th>ndvi_ne</th>\n",
       "      <th>ndvi_nw</th>\n",
       "      <th>ndvi_se</th>\n",
       "      <th>ndvi_sw</th>\n",
       "      <th>precipitation_amt_mm</th>\n",
       "      <th>reanalysis_air_temp_k</th>\n",
       "      <th>...</th>\n",
       "      <th>reanalysis_relative_humidity_percent</th>\n",
       "      <th>reanalysis_sat_precip_amt_mm</th>\n",
       "      <th>reanalysis_specific_humidity_g_per_kg</th>\n",
       "      <th>reanalysis_tdtr_k</th>\n",
       "      <th>station_avg_temp_c</th>\n",
       "      <th>station_diur_temp_rng_c</th>\n",
       "      <th>station_max_temp_c</th>\n",
       "      <th>station_min_temp_c</th>\n",
       "      <th>station_precip_mm</th>\n",
       "      <th>total_cases</th>\n",
       "    </tr>\n",
       "  </thead>\n",
       "  <tbody>\n",
       "    <tr>\n",
       "      <th>497</th>\n",
       "      <td>sj</td>\n",
       "      <td>1999</td>\n",
       "      <td>46</td>\n",
       "      <td>1999-11-19</td>\n",
       "      <td>-0.045400</td>\n",
       "      <td>0.074700</td>\n",
       "      <td>0.051480</td>\n",
       "      <td>0.039433</td>\n",
       "      <td>83.66</td>\n",
       "      <td>298.968571</td>\n",
       "      <td>...</td>\n",
       "      <td>85.404286</td>\n",
       "      <td>83.66</td>\n",
       "      <td>17.817143</td>\n",
       "      <td>1.814286</td>\n",
       "      <td>26.714286</td>\n",
       "      <td>5.800000</td>\n",
       "      <td>30.6</td>\n",
       "      <td>22.8</td>\n",
       "      <td>62.1</td>\n",
       "      <td>43</td>\n",
       "    </tr>\n",
       "    <tr>\n",
       "      <th>1261</th>\n",
       "      <td>iq</td>\n",
       "      <td>2006</td>\n",
       "      <td>39</td>\n",
       "      <td>2006-10-01</td>\n",
       "      <td>0.465500</td>\n",
       "      <td>0.241543</td>\n",
       "      <td>0.473400</td>\n",
       "      <td>0.493443</td>\n",
       "      <td>134.64</td>\n",
       "      <td>299.381429</td>\n",
       "      <td>...</td>\n",
       "      <td>82.845714</td>\n",
       "      <td>134.64</td>\n",
       "      <td>17.254286</td>\n",
       "      <td>11.285714</td>\n",
       "      <td>28.566667</td>\n",
       "      <td>12.400000</td>\n",
       "      <td>35.2</td>\n",
       "      <td>22.0</td>\n",
       "      <td>63.0</td>\n",
       "      <td>6</td>\n",
       "    </tr>\n",
       "    <tr>\n",
       "      <th>411</th>\n",
       "      <td>sj</td>\n",
       "      <td>1998</td>\n",
       "      <td>13</td>\n",
       "      <td>1998-03-26</td>\n",
       "      <td>NaN</td>\n",
       "      <td>0.073100</td>\n",
       "      <td>0.188167</td>\n",
       "      <td>0.168500</td>\n",
       "      <td>0.00</td>\n",
       "      <td>298.502857</td>\n",
       "      <td>...</td>\n",
       "      <td>76.675714</td>\n",
       "      <td>0.00</td>\n",
       "      <td>15.480000</td>\n",
       "      <td>2.557143</td>\n",
       "      <td>26.228571</td>\n",
       "      <td>6.900000</td>\n",
       "      <td>31.1</td>\n",
       "      <td>22.2</td>\n",
       "      <td>16.5</td>\n",
       "      <td>38</td>\n",
       "    </tr>\n",
       "    <tr>\n",
       "      <th>1046</th>\n",
       "      <td>iq</td>\n",
       "      <td>2002</td>\n",
       "      <td>33</td>\n",
       "      <td>2002-08-13</td>\n",
       "      <td>0.377157</td>\n",
       "      <td>0.305900</td>\n",
       "      <td>0.288400</td>\n",
       "      <td>0.360843</td>\n",
       "      <td>9.81</td>\n",
       "      <td>298.304286</td>\n",
       "      <td>...</td>\n",
       "      <td>69.060000</td>\n",
       "      <td>9.81</td>\n",
       "      <td>13.441429</td>\n",
       "      <td>14.385714</td>\n",
       "      <td>27.833333</td>\n",
       "      <td>12.233333</td>\n",
       "      <td>35.1</td>\n",
       "      <td>20.6</td>\n",
       "      <td>7.1</td>\n",
       "      <td>7</td>\n",
       "    </tr>\n",
       "    <tr>\n",
       "      <th>1033</th>\n",
       "      <td>iq</td>\n",
       "      <td>2002</td>\n",
       "      <td>20</td>\n",
       "      <td>2002-05-14</td>\n",
       "      <td>0.133800</td>\n",
       "      <td>0.109633</td>\n",
       "      <td>0.219614</td>\n",
       "      <td>0.141700</td>\n",
       "      <td>46.79</td>\n",
       "      <td>296.784286</td>\n",
       "      <td>...</td>\n",
       "      <td>97.242857</td>\n",
       "      <td>46.79</td>\n",
       "      <td>17.744286</td>\n",
       "      <td>5.085714</td>\n",
       "      <td>26.866667</td>\n",
       "      <td>9.700000</td>\n",
       "      <td>32.3</td>\n",
       "      <td>20.8</td>\n",
       "      <td>543.3</td>\n",
       "      <td>10</td>\n",
       "    </tr>\n",
       "    <tr>\n",
       "      <th>...</th>\n",
       "      <td>...</td>\n",
       "      <td>...</td>\n",
       "      <td>...</td>\n",
       "      <td>...</td>\n",
       "      <td>...</td>\n",
       "      <td>...</td>\n",
       "      <td>...</td>\n",
       "      <td>...</td>\n",
       "      <td>...</td>\n",
       "      <td>...</td>\n",
       "      <td>...</td>\n",
       "      <td>...</td>\n",
       "      <td>...</td>\n",
       "      <td>...</td>\n",
       "      <td>...</td>\n",
       "      <td>...</td>\n",
       "      <td>...</td>\n",
       "      <td>...</td>\n",
       "      <td>...</td>\n",
       "      <td>...</td>\n",
       "      <td>...</td>\n",
       "    </tr>\n",
       "    <tr>\n",
       "      <th>323</th>\n",
       "      <td>sj</td>\n",
       "      <td>1996</td>\n",
       "      <td>29</td>\n",
       "      <td>1996-07-15</td>\n",
       "      <td>0.112100</td>\n",
       "      <td>0.095425</td>\n",
       "      <td>0.167429</td>\n",
       "      <td>0.164543</td>\n",
       "      <td>97.22</td>\n",
       "      <td>299.018571</td>\n",
       "      <td>...</td>\n",
       "      <td>84.322857</td>\n",
       "      <td>97.22</td>\n",
       "      <td>17.538571</td>\n",
       "      <td>2.242857</td>\n",
       "      <td>27.271429</td>\n",
       "      <td>5.628571</td>\n",
       "      <td>31.1</td>\n",
       "      <td>23.9</td>\n",
       "      <td>53.6</td>\n",
       "      <td>11</td>\n",
       "    </tr>\n",
       "    <tr>\n",
       "      <th>1286</th>\n",
       "      <td>iq</td>\n",
       "      <td>2007</td>\n",
       "      <td>13</td>\n",
       "      <td>2007-03-26</td>\n",
       "      <td>0.238671</td>\n",
       "      <td>0.244743</td>\n",
       "      <td>0.216229</td>\n",
       "      <td>0.259186</td>\n",
       "      <td>93.14</td>\n",
       "      <td>297.835714</td>\n",
       "      <td>...</td>\n",
       "      <td>93.585714</td>\n",
       "      <td>93.14</td>\n",
       "      <td>18.214286</td>\n",
       "      <td>8.242857</td>\n",
       "      <td>28.250000</td>\n",
       "      <td>9.600000</td>\n",
       "      <td>34.6</td>\n",
       "      <td>21.5</td>\n",
       "      <td>66.1</td>\n",
       "      <td>6</td>\n",
       "    </tr>\n",
       "    <tr>\n",
       "      <th>724</th>\n",
       "      <td>sj</td>\n",
       "      <td>2004</td>\n",
       "      <td>14</td>\n",
       "      <td>2004-04-01</td>\n",
       "      <td>NaN</td>\n",
       "      <td>0.023175</td>\n",
       "      <td>0.147629</td>\n",
       "      <td>0.158386</td>\n",
       "      <td>28.35</td>\n",
       "      <td>296.894286</td>\n",
       "      <td>...</td>\n",
       "      <td>80.365714</td>\n",
       "      <td>28.35</td>\n",
       "      <td>14.721429</td>\n",
       "      <td>2.414286</td>\n",
       "      <td>24.700000</td>\n",
       "      <td>6.028571</td>\n",
       "      <td>28.9</td>\n",
       "      <td>20.6</td>\n",
       "      <td>60.7</td>\n",
       "      <td>4</td>\n",
       "    </tr>\n",
       "    <tr>\n",
       "      <th>538</th>\n",
       "      <td>sj</td>\n",
       "      <td>2000</td>\n",
       "      <td>35</td>\n",
       "      <td>2000-09-02</td>\n",
       "      <td>NaN</td>\n",
       "      <td>0.243500</td>\n",
       "      <td>0.277600</td>\n",
       "      <td>0.193786</td>\n",
       "      <td>164.26</td>\n",
       "      <td>299.960000</td>\n",
       "      <td>...</td>\n",
       "      <td>82.675714</td>\n",
       "      <td>164.26</td>\n",
       "      <td>18.231429</td>\n",
       "      <td>2.300000</td>\n",
       "      <td>27.185714</td>\n",
       "      <td>6.442857</td>\n",
       "      <td>31.1</td>\n",
       "      <td>21.7</td>\n",
       "      <td>156.6</td>\n",
       "      <td>4</td>\n",
       "    </tr>\n",
       "    <tr>\n",
       "      <th>135</th>\n",
       "      <td>sj</td>\n",
       "      <td>1992</td>\n",
       "      <td>49</td>\n",
       "      <td>1992-12-02</td>\n",
       "      <td>0.108300</td>\n",
       "      <td>0.074125</td>\n",
       "      <td>0.175067</td>\n",
       "      <td>0.152750</td>\n",
       "      <td>53.73</td>\n",
       "      <td>298.460000</td>\n",
       "      <td>...</td>\n",
       "      <td>82.648571</td>\n",
       "      <td>53.73</td>\n",
       "      <td>16.678571</td>\n",
       "      <td>1.928571</td>\n",
       "      <td>26.628571</td>\n",
       "      <td>7.242857</td>\n",
       "      <td>31.1</td>\n",
       "      <td>22.2</td>\n",
       "      <td>62.6</td>\n",
       "      <td>60</td>\n",
       "    </tr>\n",
       "  </tbody>\n",
       "</table>\n",
       "<p>437 rows × 25 columns</p>\n",
       "</div>"
      ],
      "text/plain": [
       "     city  year  weekofyear week_start_date   ndvi_ne   ndvi_nw   ndvi_se  \\\n",
       "497    sj  1999          46      1999-11-19 -0.045400  0.074700  0.051480   \n",
       "1261   iq  2006          39      2006-10-01  0.465500  0.241543  0.473400   \n",
       "411    sj  1998          13      1998-03-26       NaN  0.073100  0.188167   \n",
       "1046   iq  2002          33      2002-08-13  0.377157  0.305900  0.288400   \n",
       "1033   iq  2002          20      2002-05-14  0.133800  0.109633  0.219614   \n",
       "...   ...   ...         ...             ...       ...       ...       ...   \n",
       "323    sj  1996          29      1996-07-15  0.112100  0.095425  0.167429   \n",
       "1286   iq  2007          13      2007-03-26  0.238671  0.244743  0.216229   \n",
       "724    sj  2004          14      2004-04-01       NaN  0.023175  0.147629   \n",
       "538    sj  2000          35      2000-09-02       NaN  0.243500  0.277600   \n",
       "135    sj  1992          49      1992-12-02  0.108300  0.074125  0.175067   \n",
       "\n",
       "       ndvi_sw  precipitation_amt_mm  reanalysis_air_temp_k  ...  \\\n",
       "497   0.039433                 83.66             298.968571  ...   \n",
       "1261  0.493443                134.64             299.381429  ...   \n",
       "411   0.168500                  0.00             298.502857  ...   \n",
       "1046  0.360843                  9.81             298.304286  ...   \n",
       "1033  0.141700                 46.79             296.784286  ...   \n",
       "...        ...                   ...                    ...  ...   \n",
       "323   0.164543                 97.22             299.018571  ...   \n",
       "1286  0.259186                 93.14             297.835714  ...   \n",
       "724   0.158386                 28.35             296.894286  ...   \n",
       "538   0.193786                164.26             299.960000  ...   \n",
       "135   0.152750                 53.73             298.460000  ...   \n",
       "\n",
       "      reanalysis_relative_humidity_percent  reanalysis_sat_precip_amt_mm  \\\n",
       "497                              85.404286                         83.66   \n",
       "1261                             82.845714                        134.64   \n",
       "411                              76.675714                          0.00   \n",
       "1046                             69.060000                          9.81   \n",
       "1033                             97.242857                         46.79   \n",
       "...                                    ...                           ...   \n",
       "323                              84.322857                         97.22   \n",
       "1286                             93.585714                         93.14   \n",
       "724                              80.365714                         28.35   \n",
       "538                              82.675714                        164.26   \n",
       "135                              82.648571                         53.73   \n",
       "\n",
       "      reanalysis_specific_humidity_g_per_kg  reanalysis_tdtr_k  \\\n",
       "497                               17.817143           1.814286   \n",
       "1261                              17.254286          11.285714   \n",
       "411                               15.480000           2.557143   \n",
       "1046                              13.441429          14.385714   \n",
       "1033                              17.744286           5.085714   \n",
       "...                                     ...                ...   \n",
       "323                               17.538571           2.242857   \n",
       "1286                              18.214286           8.242857   \n",
       "724                               14.721429           2.414286   \n",
       "538                               18.231429           2.300000   \n",
       "135                               16.678571           1.928571   \n",
       "\n",
       "      station_avg_temp_c  station_diur_temp_rng_c  station_max_temp_c  \\\n",
       "497            26.714286                 5.800000                30.6   \n",
       "1261           28.566667                12.400000                35.2   \n",
       "411            26.228571                 6.900000                31.1   \n",
       "1046           27.833333                12.233333                35.1   \n",
       "1033           26.866667                 9.700000                32.3   \n",
       "...                  ...                      ...                 ...   \n",
       "323            27.271429                 5.628571                31.1   \n",
       "1286           28.250000                 9.600000                34.6   \n",
       "724            24.700000                 6.028571                28.9   \n",
       "538            27.185714                 6.442857                31.1   \n",
       "135            26.628571                 7.242857                31.1   \n",
       "\n",
       "      station_min_temp_c  station_precip_mm  total_cases  \n",
       "497                 22.8               62.1           43  \n",
       "1261                22.0               63.0            6  \n",
       "411                 22.2               16.5           38  \n",
       "1046                20.6                7.1            7  \n",
       "1033                20.8              543.3           10  \n",
       "...                  ...                ...          ...  \n",
       "323                 23.9               53.6           11  \n",
       "1286                21.5               66.1            6  \n",
       "724                 20.6               60.7            4  \n",
       "538                 21.7              156.6            4  \n",
       "135                 22.2               62.6           60  \n",
       "\n",
       "[437 rows x 25 columns]"
      ]
     },
     "execution_count": 13,
     "metadata": {},
     "output_type": "execute_result"
    }
   ],
   "source": [
    "val"
   ]
  },
  {
   "cell_type": "markdown",
   "metadata": {},
   "source": [
    "- [X] Begin to clean and explore your data."
   ]
  },
  {
   "cell_type": "code",
   "execution_count": 14,
   "metadata": {},
   "outputs": [],
   "source": [
    "# Cleaning Checklist\n",
    "\n",
    "# Null values - impute later\n",
    "# Time series - already date time, make features\n",
    "# Location split? - to do\n",
    "# Numerical issues - none"
   ]
  },
  {
   "cell_type": "code",
   "execution_count": 15,
   "metadata": {},
   "outputs": [
    {
     "data": {
      "text/plain": [
       "city                                      object\n",
       "year                                       int64\n",
       "weekofyear                                 int64\n",
       "week_start_date                           object\n",
       "ndvi_ne                                  float64\n",
       "ndvi_nw                                  float64\n",
       "ndvi_se                                  float64\n",
       "ndvi_sw                                  float64\n",
       "precipitation_amt_mm                     float64\n",
       "reanalysis_air_temp_k                    float64\n",
       "reanalysis_avg_temp_k                    float64\n",
       "reanalysis_dew_point_temp_k              float64\n",
       "reanalysis_max_air_temp_k                float64\n",
       "reanalysis_min_air_temp_k                float64\n",
       "reanalysis_precip_amt_kg_per_m2          float64\n",
       "reanalysis_relative_humidity_percent     float64\n",
       "reanalysis_sat_precip_amt_mm             float64\n",
       "reanalysis_specific_humidity_g_per_kg    float64\n",
       "reanalysis_tdtr_k                        float64\n",
       "station_avg_temp_c                       float64\n",
       "station_diur_temp_rng_c                  float64\n",
       "station_max_temp_c                       float64\n",
       "station_min_temp_c                       float64\n",
       "station_precip_mm                        float64\n",
       "total_cases                                int64\n",
       "dtype: object"
      ]
     },
     "execution_count": 15,
     "metadata": {},
     "output_type": "execute_result"
    }
   ],
   "source": [
    "train.dtypes"
   ]
  },
  {
   "cell_type": "code",
   "execution_count": 16,
   "metadata": {},
   "outputs": [
    {
     "data": {
      "text/plain": [
       "city                                       0\n",
       "year                                       0\n",
       "weekofyear                                 0\n",
       "week_start_date                            0\n",
       "ndvi_ne                                  135\n",
       "ndvi_nw                                   35\n",
       "ndvi_se                                   14\n",
       "ndvi_sw                                   14\n",
       "precipitation_amt_mm                      11\n",
       "reanalysis_air_temp_k                      8\n",
       "reanalysis_avg_temp_k                      8\n",
       "reanalysis_dew_point_temp_k                8\n",
       "reanalysis_max_air_temp_k                  8\n",
       "reanalysis_min_air_temp_k                  8\n",
       "reanalysis_precip_amt_kg_per_m2            8\n",
       "reanalysis_relative_humidity_percent       8\n",
       "reanalysis_sat_precip_amt_mm              11\n",
       "reanalysis_specific_humidity_g_per_kg      8\n",
       "reanalysis_tdtr_k                          8\n",
       "station_avg_temp_c                        35\n",
       "station_diur_temp_rng_c                   35\n",
       "station_max_temp_c                        16\n",
       "station_min_temp_c                        12\n",
       "station_precip_mm                         16\n",
       "total_cases                                0\n",
       "dtype: int64"
      ]
     },
     "execution_count": 16,
     "metadata": {},
     "output_type": "execute_result"
    }
   ],
   "source": [
    "# Null value cleaning\n",
    "\n",
    "train.isnull().sum()\n"
   ]
  },
  {
   "cell_type": "code",
   "execution_count": 17,
   "metadata": {},
   "outputs": [],
   "source": [
    "# Column name issues"
   ]
  },
  {
   "cell_type": "code",
   "execution_count": 18,
   "metadata": {},
   "outputs": [
    {
     "data": {
      "text/plain": [
       "<matplotlib.axes._subplots.AxesSubplot at 0x7fa7302c4e10>"
      ]
     },
     "execution_count": 18,
     "metadata": {},
     "output_type": "execute_result"
    },
    {
     "data": {
      "image/png": "[encoded data removed]",
      "text/plain": [
       "<Figure size 432x288 with 1 Axes>"
      ]
     },
     "metadata": {
      "needs_background": "light"
     },
     "output_type": "display_data"
    }
   ],
   "source": [
    "sns.lineplot(x='year', y='total_cases',data=train)\n",
    "\n",
    "# A lot of values that should be ints are displayed as floats"
   ]
  },
  {
   "cell_type": "markdown",
   "metadata": {},
   "source": [
    "- [ ] Begin to choose which features, if any, to exclude. Would some features \"leak\" future information?"
   ]
  },
  {
   "cell_type": "code",
   "execution_count": 21,
   "metadata": {},
   "outputs": [],
   "source": [
    "# Testing: splitting the data into 2 dataframes based on location\n",
    "sj_train = train.loc[train['city'] == 'sj']\n",
    "iq_train = train.loc[train['city'] == 'iq']"
   ]
  },
  {
   "cell_type": "markdown",
   "metadata": {},
   "source": [
    "- [ ] Continue to clean and explore your data."
   ]
  },
  {
   "cell_type": "code",
   "execution_count": 19,
   "metadata": {},
   "outputs": [],
   "source": [
    "# Time series cleaning / feature engineering\n",
    "\n",
    "\n",
    "## SEASONS - I think seasonality could play into total cases of Dengue because the disease spreads from mosquitos\n",
    "#            that thrive in hot/wet conditions.\n",
    "\n",
    "# The climate of Puerto Rico is tropical, hot all year round, with a hot and muggy season from May to October\n",
    "# and a relatively cool season from December to March, with November and April as intermediate months.\n",
    "\n",
    "# Peru has two seasons owing to its proximity to the equator. These are not traditionally known as summer and\n",
    "# winter, but as the rainy/wet season ('summer') which runs from December to March, and the dry season ('winter')\n",
    "# which runs from May to September.\n",
    "\n",
    "# SJ - hot/muggy season = YYYY-05-DD through YYYY-10-DD\n",
    "# SJ - cool season = YYYY-12-DD through YYYY-03-DD\n",
    "# SJ - intermediate season = YYYY-11-DD AND NOT THROUGH YYYY-04-DD\n",
    "\n",
    "# IQ - rainy season = YYYY-12-DD through YYYY-03-DD\n",
    "# IQ - dry season = YYYY-05-DD through YYYY-09-DD\n",
    "\n",
    "from datetime import date, datetime"
   ]
  },
  {
   "cell_type": "code",
   "execution_count": 37,
   "metadata": {},
   "outputs": [
    {
     "name": "stderr",
     "output_type": "stream",
     "text": [
      "/home/jack/anaconda3/lib/python3.7/site-packages/ipykernel_launcher.py:1: SettingWithCopyWarning: \n",
      "A value is trying to be set on a copy of a slice from a DataFrame.\n",
      "Try using .loc[row_indexer,col_indexer] = value instead\n",
      "\n",
      "See the caveats in the documentation: https://pandas.pydata.org/pandas-docs/stable/user_guide/indexing.html#returning-a-view-versus-a-copy\n",
      "  \"\"\"Entry point for launching an IPython kernel.\n",
      "/home/jack/anaconda3/lib/python3.7/site-packages/ipykernel_launcher.py:2: SettingWithCopyWarning: \n",
      "A value is trying to be set on a copy of a slice from a DataFrame.\n",
      "Try using .loc[row_indexer,col_indexer] = value instead\n",
      "\n",
      "See the caveats in the documentation: https://pandas.pydata.org/pandas-docs/stable/user_guide/indexing.html#returning-a-view-versus-a-copy\n",
      "  \n"
     ]
    }
   ],
   "source": [
    "sj_train['month'] = pd.DatetimeIndex(sj_train['week_start_date']).month\n",
    "iq_train['month'] = pd.DatetimeIndex(iq_train['week_start_date']).month"
   ]
  },
  {
   "cell_type": "code",
   "execution_count": 38,
   "metadata": {},
   "outputs": [
    {
     "name": "stdout",
     "output_type": "stream",
     "text": [
      "San Juan\n",
      "features:  (660, 26)\n",
      "\n",
      "Iquitos\n",
      "features:  (359, 26)\n"
     ]
    }
   ],
   "source": [
    "print('San Juan')\n",
    "print('features: ', sj_train.shape)\n",
    "\n",
    "print('\\nIquitos')\n",
    "print('features: ', iq_train.shape)"
   ]
  },
  {
   "cell_type": "code",
   "execution_count": 39,
   "metadata": {},
   "outputs": [],
   "source": [
    "# compute the correlations\n",
    "sj_correlations = sj_train.corr()\n",
    "iq_correlations = iq_train.corr()"
   ]
  },
  {
   "cell_type": "code",
   "execution_count": 40,
   "metadata": {},
   "outputs": [
    {
     "data": {
      "text/plain": [
       "Text(0.5, 1, 'San Juan Variable Correlations')"
      ]
     },
     "execution_count": 40,
     "metadata": {},
     "output_type": "execute_result"
    },
    {
     "data": {
      "image/png": "[encoded data removed]",
      "text/plain": [
       "<Figure size 432x288 with 2 Axes>"
      ]
     },
     "metadata": {
      "needs_background": "light"
     },
     "output_type": "display_data"
    }
   ],
   "source": [
    "# plot san juan\n",
    "sj_corr_heat = sns.heatmap(sj_correlations)\n",
    "plt.title('San Juan Variable Correlations')"
   ]
  },
  {
   "cell_type": "code",
   "execution_count": 41,
   "metadata": {},
   "outputs": [
    {
     "data": {
      "text/plain": [
       "Text(0.5, 1, 'Iquitos Variable Correlations')"
      ]
     },
     "execution_count": 41,
     "metadata": {},
     "output_type": "execute_result"
    },
    {
     "data": {
      "image/png": "[encoded data removed]",
      "text/plain": [
       "<Figure size 432x288 with 2 Axes>"
      ]
     },
     "metadata": {
      "needs_background": "light"
     },
     "output_type": "display_data"
    }
   ],
   "source": [
    "# plot iquitos\n",
    "iq_corr_heat = sns.heatmap(iq_correlations)\n",
    "plt.title('Iquitos Variable Correlations')"
   ]
  },
  {
   "cell_type": "code",
   "execution_count": 42,
   "metadata": {},
   "outputs": [
    {
     "data": {
      "text/plain": [
       "<matplotlib.axes._subplots.AxesSubplot at 0x7fa72fb5d350>"
      ]
     },
     "execution_count": 42,
     "metadata": {},
     "output_type": "execute_result"
    },
    {
     "data": {
      "image/png": "[encoded data removed]",
      "text/plain": [
       "<Figure size 432x288 with 1 Axes>"
      ]
     },
     "metadata": {
      "needs_background": "light"
     },
     "output_type": "display_data"
    }
   ],
   "source": [
    "(sj_correlations\n",
    "     .total_cases\n",
    "     .drop('total_cases') # don't compare with myself\n",
    "     .sort_values(ascending=False)\n",
    "     .plot\n",
    "     .barh())"
   ]
  },
  {
   "cell_type": "code",
   "execution_count": 43,
   "metadata": {},
   "outputs": [
    {
     "data": {
      "text/plain": [
       "<matplotlib.axes._subplots.AxesSubplot at 0x7fa72fb28310>"
      ]
     },
     "execution_count": 43,
     "metadata": {},
     "output_type": "execute_result"
    },
    {
     "data": {
      "image/png": "[encoded data removed]",
      "text/plain": [
       "<Figure size 432x288 with 1 Axes>"
      ]
     },
     "metadata": {
      "needs_background": "light"
     },
     "output_type": "display_data"
    }
   ],
   "source": [
    "(iq_correlations\n",
    "     .total_cases\n",
    "     .drop('total_cases') # don't compare with myself\n",
    "     .sort_values(ascending=False)\n",
    "     .plot\n",
    "     .barh())"
   ]
  },
  {
   "cell_type": "markdown",
   "metadata": {},
   "source": [
    "- [ ] For the evaluation metric you chose, what score would you get just by guessing?"
   ]
  },
  {
   "cell_type": "markdown",
   "metadata": {},
   "source": [
    "- [ ] Can you make a fast, first model that beats guessing?"
   ]
  },
  {
   "cell_type": "code",
   "execution_count": null,
   "metadata": {},
   "outputs": [],
   "source": []
  },
  {
   "cell_type": "code",
   "execution_count": null,
   "metadata": {},
   "outputs": [],
   "source": []
  }
 ],
 "metadata": {
  "kernelspec": {
   "display_name": "Python 3",
   "language": "python",
   "name": "python3"
  },
  "language_info": {
   "codemirror_mode": {
    "name": "ipython",
    "version": 3
   },
   "file_extension": ".py",
   "mimetype": "text/x-python",
   "name": "python",
   "nbconvert_exporter": "python",
   "pygments_lexer": "ipython3",
   "version": "3.7.4"
  }
 },
 "nbformat": 4,
 "nbformat_minor": 2
}
